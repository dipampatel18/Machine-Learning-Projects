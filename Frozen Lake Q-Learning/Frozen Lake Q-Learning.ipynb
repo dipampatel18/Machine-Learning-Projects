{
 "cells": [
  {
   "cell_type": "markdown",
   "metadata": {},
   "source": [
    "## Frozen Lake-v0\n",
    "\n",
    "Winter is here. You and your friends were tossing around a frisbee at the park when you made a wild throw that left the frisbee out in the middle of the lake. The water is mostly frozen, but there are a few holes where the ice has melted. If you step into one of those holes, you'll fall into the freezing water. At this time, there's an international frisbee shortage, so it's absolutely imperative that you navigate across the lake and retrieve the disc. However, the ice is slippery, so you won't always move in the direction you intend.\n",
    "\n",
    "The surface is described using a grid like the following:\n",
    "\n",
    "SFFF\n",
    "\n",
    "FHFH\n",
    "\n",
    "FFFH\n",
    "\n",
    "HFFG\n",
    "\n",
    "(S: starting point, safe)\n",
    "\n",
    "(F: frozen surface, safe)\n",
    "\n",
    "(H: hole, fall to your doom)\n",
    "\n",
    "(G: goal, where the frisbee is located)\n",
    "\n",
    "The episode ends when you reach the goal or fall in a hole. You receive a reward of 1 if you reach the goal, and zero otherwise."
   ]
  },
  {
   "cell_type": "markdown",
   "metadata": {},
   "source": [
    "The agent controls the movement of a character in a grid world. Some tiles of the grid are walkable, and others lead to the agent falling into the water. Additionally, the movement direction of the agent is uncertain and only partially depends on the chosen direction. The agent is rewarded for finding a walkable path to a goal tile."
   ]
  },
  {
   "cell_type": "code",
   "execution_count": 1,
   "metadata": {},
   "outputs": [],
   "source": [
    "# Importing Useful Packages\n",
    "\n",
    "import gym\n",
    "import numpy as np\n",
    "import random\n",
    "from IPython.display import clear_output\n",
    "import time"
   ]
  },
  {
   "cell_type": "code",
   "execution_count": 2,
   "metadata": {},
   "outputs": [],
   "source": [
    "# Setting up the Frozen Lake Environment\n",
    "\n",
    "env = gym.make(\"FrozenLake-v0\")"
   ]
  },
  {
   "cell_type": "code",
   "execution_count": 3,
   "metadata": {},
   "outputs": [
    {
     "name": "stdout",
     "output_type": "stream",
     "text": [
      "[[0. 0. 0. 0.]\n",
      " [0. 0. 0. 0.]\n",
      " [0. 0. 0. 0.]\n",
      " [0. 0. 0. 0.]\n",
      " [0. 0. 0. 0.]\n",
      " [0. 0. 0. 0.]\n",
      " [0. 0. 0. 0.]\n",
      " [0. 0. 0. 0.]\n",
      " [0. 0. 0. 0.]\n",
      " [0. 0. 0. 0.]\n",
      " [0. 0. 0. 0.]\n",
      " [0. 0. 0. 0.]\n",
      " [0. 0. 0. 0.]\n",
      " [0. 0. 0. 0.]\n",
      " [0. 0. 0. 0.]\n",
      " [0. 0. 0. 0.]]\n"
     ]
    }
   ],
   "source": [
    "# Initializing the Q-Table Values\n",
    "\n",
    "action_space_steps = env.action_space.n\n",
    "state_space_steps = env.observation_space.n\n",
    "\n",
    "q_table = np.zeros((state_space_steps, action_space_steps))\n",
    "print(q_table)"
   ]
  },
  {
   "cell_type": "code",
   "execution_count": 4,
   "metadata": {},
   "outputs": [],
   "source": [
    "# Initializing the Algorithm Parameters\n",
    "\n",
    "max_episodes = 10000\n",
    "max_steps_per_episodes = 100\n",
    "\n",
    "learning_rate = 0.1\n",
    "discount_rate = 0.99\n",
    "\n",
    "exploration_rate = 1\n",
    "max_exploration_rate = 1\n",
    "min_exploration_rate = 0.001\n",
    "exploration_decay_rate = 0.001"
   ]
  },
  {
   "cell_type": "code",
   "execution_count": 5,
   "metadata": {},
   "outputs": [],
   "source": [
    "# Q-Learning Algorithm\n",
    "\n",
    "rewards_all_episodes = []\n",
    "\n",
    "for episode in range(max_episodes):    \n",
    "    \n",
    "    state = env.reset()                \n",
    "    \n",
    "    done = False                       \n",
    "    rewards_all_episode = 0            \n",
    "    \n",
    "    for step in range(max_steps_per_episodes):\n",
    "        \n",
    "        # Exploration-Exploitation Trade-off\n",
    "        \n",
    "        exploration_rate_threshold = random.uniform(0.2, 0.9)\n",
    "        \n",
    "        if exploration_rate_threshold > exploration_rate:\n",
    "            action = np.argmax(q_table[state, :])\n",
    "        else:\n",
    "             action = env.action_space.sample()\n",
    "                \n",
    "        new_state, reward, done, info = env.step(action)\n",
    "        \n",
    "        # Update Q-Table for Q(s, a)\n",
    "        \n",
    "        q_table[state, action] = (1 - learning_rate) * q_table[state, action] + learning_rate * (reward + discount_rate * np.max(q_table[new_state, :]))\n",
    "        \n",
    "        state = new_state\n",
    "        rewards_all_episode += reward\n",
    "        \n",
    "        if done == True:\n",
    "            break\n",
    "            \n",
    "    \n",
    "    # Exploration Rate Decay\n",
    "    \n",
    "    exploration_rate = min_exploration_rate + (max_exploration_rate - min_exploration_rate) * np.exp(-exploration_decay_rate * episode)\n",
    "    \n",
    "    rewards_all_episodes.append(rewards_all_episode)\n",
    "        "
   ]
  },
  {
   "cell_type": "code",
   "execution_count": 6,
   "metadata": {},
   "outputs": [
    {
     "name": "stdout",
     "output_type": "stream",
     "text": [
      "Average Reward per Thousand Episodes\n",
      "1000 : 0.06100000000000005\n",
      "2000 : 0.5340000000000004\n",
      "3000 : 0.7140000000000005\n",
      "4000 : 0.7380000000000005\n",
      "5000 : 0.7240000000000005\n",
      "6000 : 0.7110000000000005\n",
      "7000 : 0.7210000000000005\n",
      "8000 : 0.7450000000000006\n",
      "9000 : 0.7090000000000005\n",
      "10000 : 0.7340000000000005\n",
      "Q-Table\n",
      "[[0.51056433 0.43100658 0.43269299 0.43449086]\n",
      " [0.25741506 0.34586674 0.31114881 0.4526337 ]\n",
      " [0.37513415 0.24853227 0.24024026 0.25140213]\n",
      " [0.0260855  0.1612514  0.02236193 0.05209493]\n",
      " [0.52552053 0.30828324 0.34009718 0.38974292]\n",
      " [0.         0.         0.         0.        ]\n",
      " [0.10893429 0.0516517  0.32111082 0.08495761]\n",
      " [0.         0.         0.         0.        ]\n",
      " [0.45989429 0.3151485  0.35771801 0.55893846]\n",
      " [0.4219032  0.61019072 0.42607256 0.30835605]\n",
      " [0.67209557 0.34361512 0.31503831 0.24977597]\n",
      " [0.         0.         0.         0.        ]\n",
      " [0.         0.         0.         0.        ]\n",
      " [0.33428762 0.53712028 0.75907383 0.52138421]\n",
      " [0.63676753 0.88960541 0.68838982 0.68623222]\n",
      " [0.         0.         0.         0.        ]]\n"
     ]
    }
   ],
   "source": [
    "# Calculate and Print the Average Reward per Thousand Episodes\n",
    "\n",
    "rewards_per_thousand_episodes = np.split(np.array(rewards_all_episodes), max_episodes/1000)\n",
    "count = 1000\n",
    "print(\"Average Reward per Thousand Episodes\")\n",
    "\n",
    "for r in rewards_per_thousand_episodes:\n",
    "    print(count, \":\", str(sum(r/1000)))\n",
    "    count += 1000\n",
    "    \n",
    "# Print Updated Q-Table\n",
    "\n",
    "print(\"Q-Table\")\n",
    "print(q_table)"
   ]
  },
  {
   "cell_type": "code",
   "execution_count": 7,
   "metadata": {},
   "outputs": [
    {
     "name": "stdout",
     "output_type": "stream",
     "text": [
      "  (Up)\n",
      "SF\u001b[41mF\u001b[0mF\n",
      "FHFH\n",
      "FFFH\n",
      "HFFG\n",
      "You fell through the Hole \n",
      "\n"
     ]
    }
   ],
   "source": [
    "# Rendering the Virtual Environment of the Frozen Lake\n",
    "\n",
    "for episode in range(3):\n",
    "    state = env.reset()\n",
    "    done= False\n",
    "    print(\"Episode: \", episode + 1, \"\\n\")\n",
    "    time.sleep(1)\n",
    "    \n",
    "    for step in range(max_steps_per_episodes):\n",
    "        \n",
    "        clear_output(wait=True)\n",
    "        env.render()\n",
    "        time.sleep(0.3)\n",
    "        \n",
    "        action = np.argmax(q_table[state, :])      \n",
    "        new_state, reward, done, info = env.step(action)\n",
    "        \n",
    "        if done == True:\n",
    "            clear_output(wait=True)\n",
    "            env.render()\n",
    "            \n",
    "            if reward == 1:\n",
    "                print(\"You reached the Goal \\n\")\n",
    "                time.sleep(3)\n",
    "            else:\n",
    "                print(\"You fell through the Hole \\n\")\n",
    "                time.sleep(3)\n",
    "            clear_output(wait=True)\n",
    "            break \n",
    "            \n",
    "        state = new_state\n",
    "        \n",
    "env.close()"
   ]
  }
 ],
 "metadata": {
  "kernelspec": {
   "display_name": "Python 3",
   "language": "python",
   "name": "python3"
  },
  "language_info": {
   "codemirror_mode": {
    "name": "ipython",
    "version": 3
   },
   "file_extension": ".py",
   "mimetype": "text/x-python",
   "name": "python",
   "nbconvert_exporter": "python",
   "pygments_lexer": "ipython3",
   "version": "3.5.6"
  }
 },
 "nbformat": 4,
 "nbformat_minor": 2
}
